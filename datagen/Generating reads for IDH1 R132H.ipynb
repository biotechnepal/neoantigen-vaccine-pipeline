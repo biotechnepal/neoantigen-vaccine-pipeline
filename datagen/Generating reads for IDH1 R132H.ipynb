{
 "cells": [
  {
   "cell_type": "markdown",
   "metadata": {},
   "source": [
    "Casava 1.8 FASTQ ID format from \n",
    "https://en.wikipedia.org/wiki/FASTQ_format\n",
    "\n",
    "@EAS139:136:FC706VJ:2:2104:15343:197393 1:Y:18:ATCACG\n",
    "                                    \n",
    "* EAS139\tthe unique instrument name\n",
    "* 136\tthe run id\n",
    "* FC706VJ\tthe flowcell id\n",
    "* 2\tflowcell lane\n",
    "* 2104\ttile number within the flowcell lane\n",
    "* 15343\t'x'-coordinate of the cluster within the tile\n",
    "* 197393\t'y'-coordinate of the cluster within the tile\n",
    "* 1\tthe member of a pair, 1 or 2 (paired-end or mate-pair reads only)\n",
    "* Y\tY if the read is filtered, N otherwise\n",
    "* 18\t0 when none of the control bits are on, otherwise it is an even number\n",
    "* ATCACG\tindex sequence\n",
    "\n",
    "The sequence of quality values (from left to right):\n",
    "```\n",
    "!\"#$%&'()*+,-./0123456789:;<=>?@ABCDEFGHIJKLMNOPQRSTUVWXYZ[\\]^_`abcdefghijklmnopqrstuvwxyz{|}~\n",
    "```\n"
   ]
  },
  {
   "cell_type": "code",
   "execution_count": 11,
   "metadata": {},
   "outputs": [
    {
     "name": "stdout",
     "output_type": "stream",
     "text": [
      "AGTAGTCGAT\n",
      "G\n",
      "CTGCGCGACCGTATCCTTTCGCGGGGCTCATGGGGCAAGGTACGAACAGTAGCATGAAACACCGGCACAGCTATAGACTGCTAGATCCACTCGATATCAT\n"
     ]
    }
   ],
   "source": [
    "import random\n",
    "\n",
    "nucleotides = [\"A\", \"C\", \"T\", \"G\"]\n",
    "\n",
    "def random_nucleotide_sequence(length):\n",
    "    return \"\".join(random.choices(nucleotides, k=length))\n",
    "\n",
    "print(random_nucleotide_sequence(10))\n",
    "print(random_nucleotide_sequence(1))\n",
    "print(random_nucleotide_sequence(100))\n",
    "\n",
    "                "
   ]
  },
  {
   "cell_type": "code",
   "execution_count": 39,
   "metadata": {},
   "outputs": [
    {
     "name": "stdout",
     "output_type": "stream",
     "text": [
      "RbnCspL80E\n",
      "z\n",
      "Ax0cz#og>4dX@,`Y<9(`_Ag5fVg~M)!?J%:17,]Vk/,90Bf7yt%>D9YLq[c;!*NvI&@CoERkvZ|#+a&BF#@N=UATAJtyU@O(//|T\n",
      "RR?|aUt?~6\n",
      "x\n",
      "pa6C=5?MLnp=mnW9r9OLa=DbT<bjszavuGzvsULL?:[DxkSqWNF[Kar;8aLfNuTNJwvgMvhwDcJ:HC>TDmM>=?5LCN|_>W6`B5~A\n"
     ]
    }
   ],
   "source": [
    "quality_chars = \"!\\\"#$%&'()*+,-./0123456789:;<=>?@ABCDEFGHIJKLMNOPQRSTUVWXYZ[\\]^_`abcdefghijklmnopqrstuvwxyz{|}~\"\n",
    "\n",
    "def random_qualities(\n",
    "        length,\n",
    "        min_quality=0,\n",
    "        max_quality=len(quality_chars)):\n",
    "    return \"\".join(random.choices(quality_chars[min_quality:max_quality], k=length))\n",
    "\n",
    "print(random_qualities(10))\n",
    "print(random_qualities(1))\n",
    "print(random_qualities(100))\n",
    "\n",
    "\n",
    "print(random_qualities(10, min_quality=20))\n",
    "print(random_qualities(1, min_quality=20))\n",
    "\n",
    "print(random_qualities(100, min_quality=20))"
   ]
  },
  {
   "cell_type": "code",
   "execution_count": 201,
   "metadata": {},
   "outputs": [],
   "source": [
    "from Bio.Seq import reverse_complement\n",
    "\n",
    "class ReadGenerator(object):\n",
    "    def __init__(\n",
    "            self,\n",
    "            instrument_name=\"HISEQ1\",\n",
    "            run_id=1,\n",
    "            flowcell_id=\"FC706VJ\",\n",
    "            lane=1,\n",
    "            max_tile_number=9999,\n",
    "            max_x_coord=2 * 10 ** 4,\n",
    "            max_y_coord=2 * 10 ** 5,\n",
    "            pair_number=1,\n",
    "            filtered_reads=False,\n",
    "            control_bits=18,\n",
    "            index_length=6,\n",
    "            min_base_quality=20,\n",
    "            max_base_quality=40):\n",
    "        self.instrument_name = instrument_name\n",
    "        self.run_id = run_id\n",
    "        self.flowcell_id = flowcell_id\n",
    "        self.lane = lane\n",
    "        self.max_tile_number = max_tile_number\n",
    "        self.max_x_coord = max_x_coord\n",
    "        self.max_y_coord = max_y_coord\n",
    "        self.pair_number = pair_number\n",
    "        self.filtered_reads = filtered_reads\n",
    "        self.control_bits = control_bits\n",
    "        self.index_length = index_length\n",
    "        self.min_base_quality = min_base_quality\n",
    "        self.max_base_quality = max_base_quality\n",
    "        \n",
    "    def _random_index(self):\n",
    "        return random_nucleotide_sequence(self.index_length)\n",
    "    \n",
    "    def generate_reads(self, sequence, count, read_length=50):\n",
    "        \"\"\"\n",
    "        Returns list of tuples whose elements are\n",
    "            1) id string\n",
    "            2) read sequence\n",
    "            3 ) quality scores\n",
    "        \"\"\"\n",
    "        assert len(sequence) >= read_length\n",
    "        fastq_entries = []\n",
    "        index = self._random_index()\n",
    "        for i in range(count):\n",
    "            offset = random.randint(0, len(sequence) - read_length)\n",
    "            read_seq = sequence[offset:offset + read_length]\n",
    "            qualities = random_qualities(\n",
    "                length=read_length, \n",
    "                min_quality=self.min_base_quality,\n",
    "                max_quality=self.max_base_quality)\n",
    "            tile_number = random.randint(1, self.max_tile_number)\n",
    "            x_coord = random.randint(1, self.max_x_coord)\n",
    "            y_coord = random.randint(1, self.max_y_coord)\n",
    "            id_string = \"@%s:%d:%s:%d:%d:%d:%d %d:%s:%d:%s length=%d\" % (\n",
    "                self.instrument_name,\n",
    "                self.run_id,\n",
    "                self.flowcell_id,\n",
    "                self.lane, \n",
    "                tile_number,\n",
    "                x_coord,\n",
    "                y_coord,\n",
    "                self.pair_number,\n",
    "                \"Y\" if self.filtered_reads else \"N\",\n",
    "                self.control_bits,\n",
    "                index,\n",
    "                read_length)\n",
    "            fastq_entry = (id_string, read_seq, qualities)\n",
    "            fastq_entries.append(fastq_entry)\n",
    "        return fastq_entries\n",
    "    \n",
    "    def generate_fastq_string(self, sequence, count, read_length=50):\n",
    "        fastq_entries = self.generate_reads(sequence=sequence, count=count, read_length=read_length)\n",
    "        return \"\\n\".join([\n",
    "            \"%s\\n%s\\n+\\n%s\" % (id_string, seq, qual) for (id_string, seq, qual) in fastq_entries])\n",
    "    \n",
    "    def generate_fastq_strings_for_variant(self, variant, ref_count, alt_count, read_length=50):\n",
    "        effect = variant.effects().top_priority_effect()\n",
    "        transcript = effect.transcript\n",
    "        transcript_sequence = transcript.sequence\n",
    "        variant_start_offset = transcript.spliced_offset(variant.start)\n",
    "        variant_end_offset = transcript.spliced_offset(variant.end)\n",
    "        \n",
    "        prefix_start_offset = max(0, variant_start_offset - read_length)\n",
    "        prefix = transcript_sequence[prefix_start_offset:variant_start_offset]\n",
    "        suffix = transcript_sequence[\n",
    "            variant_end_offset + 1:variant_end_offset + read_length]\n",
    "        \n",
    "        \n",
    "        if transcript.on_negative_strand:\n",
    "            ref = reverse_complement(variant.ref)\n",
    "            alt = reverse_complement(variant.alt)\n",
    "        else:\n",
    "            ref = variant.ref\n",
    "            alt = variant.alt\n",
    "        \n",
    "        ref_sequence = prefix + ref + suffix\n",
    "        alt_sequence = prefix + alt + suffix\n",
    "        \n",
    "        expected_ref_sequence = transcript_sequence[\n",
    "            prefix_start_offset:\n",
    "            variant_end_offset + read_length]\n",
    "        \n",
    "        if ref_sequence != expected_ref_sequence:\n",
    "            raise ValueError(\n",
    "                \"Ref sequence (length %d, type=%s) not same as prefix+ref+suffix (length %d, type=%s)\" % (\n",
    "                len(expected_ref_sequence), \n",
    "                type(expected_ref_sequence),\n",
    "                len(ref_sequence),\n",
    "                type(ref_sequence)))\n",
    "        \n",
    "        ref_fastq_string = self.generate_fastq_string(\n",
    "            sequence=ref_sequence,\n",
    "            count=ref_count,\n",
    "            read_length=read_length)\n",
    "        alt_fastq_string = self.generate_fastq_string(\n",
    "            sequence=alt_sequence,\n",
    "            count=alt_count,\n",
    "            read_length=read_length)\n",
    "        return ref_fastq_string, alt_fastq_string\n"
   ]
  },
  {
   "cell_type": "code",
   "execution_count": 202,
   "metadata": {},
   "outputs": [],
   "source": [
    "r = ReadGenerator()"
   ]
  },
  {
   "cell_type": "code",
   "execution_count": 203,
   "metadata": {},
   "outputs": [
    {
     "name": "stdout",
     "output_type": "stream",
     "text": [
      "@HISEQ1:1:FC706VJ:1:270:17771:93156 1:N:18:AGTAAC length=5\n",
      "GAAAC\n",
      "+\n",
      "@C5GG\n",
      "@HISEQ1:1:FC706VJ:1:4267:16539:72309 1:N:18:AGTAAC length=5\n",
      "AAACC\n",
      "+\n",
      "6:;;@\n"
     ]
    }
   ],
   "source": [
    "print(r.generate_fastq_string(\"ACTGAACCTTGGAAACCCTTTGGG\", count=2, read_length=5))"
   ]
  },
  {
   "cell_type": "code",
   "execution_count": 204,
   "metadata": {},
   "outputs": [],
   "source": [
    "from varcode import Variant"
   ]
  },
  {
   "cell_type": "code",
   "execution_count": 205,
   "metadata": {},
   "outputs": [],
   "source": [
    "idh1_r132h = Variant(2, 209113112, \"C\", \"T\", ensembl=\"grch37\")"
   ]
  },
  {
   "cell_type": "code",
   "execution_count": 206,
   "metadata": {},
   "outputs": [
    {
     "data": {
      "text/plain": [
       "Substitution(variant=Variant(contig='2', start=209113112, ref='C', alt='T', reference_name='GRCh37'), transcript_name=IDH1-006, transcript_id=ENST00000415913, effect_description=p.R132H)"
      ]
     },
     "execution_count": 206,
     "metadata": {},
     "output_type": "execute_result"
    }
   ],
   "source": [
    "idh1_r132h.effects().top_priority_effect()"
   ]
  },
  {
   "cell_type": "code",
   "execution_count": 207,
   "metadata": {},
   "outputs": [],
   "source": [
    "ref_fastq, alt_fastq = r.generate_fastq_strings_for_variant(variant=idh1_r132h, ref_count=50, alt_count=100, read_length=75)"
   ]
  },
  {
   "cell_type": "code",
   "execution_count": 208,
   "metadata": {},
   "outputs": [
    {
     "name": "stdout",
     "output_type": "stream",
     "text": [
      "@HISEQ1:1:FC706VJ:1:9656:9490:92913 1:N:18:GAGCTA length=75\n",
      "CGTCATGCTTATGGGGATCAATACAGAGCAACTGATTTTGTTGTTCCTGGGCCTGGAAAAGTAGAGATAACCTAC\n",
      "+\n",
      "8DH@A8;@><FAFD7>8<:5675H6@6796FE;D;?HA>8GDD?95A6>5>DC5=C69;959::9ACD@78DAG>\n",
      "@HISEQ1:1:FC706VJ:1:1013:13785:19553 1:N:18:GAGCTA length=75\n",
      "CCCGGCTTGTGAGTGGATGGGTAAAACCTATCATCATAGGTCGTCATGCTTATGGGGATCAATACAGAGCAACTG\n",
      "+\n",
      ";96?7BA>5EE7HD<CG@G>BCCDHCFDF:FA=8>@889?5F68>GH57;7A6=<E?=:GHG8>@=:6=;=BE6@\n",
      "@HISEQ1:1:FC706VJ:1:2151:18270:179681 1:N:18:GAGCTA length=75\n",
      "ACCTATCATCATAGGTCGTCATGCTTATGGGGATCAATACAGAGCAACTGATTTTGTTGTTCCTGGGCCTGGAAA\n",
      "+\n",
      ">65<<ED6><?=G6??DD9>@A8=BB8CGE??9==7>C=ACE?E;5:5<@FF=E?;6F?@CDF:6;E9888FG@9\n",
      "@HISEQ1:1:FC706VJ:1:2250:9620:142493 1:N:18:GAGCTA length=75\n",
      "AGCCATTATCTGCAAAAATATCCCCCGGCTTGTGAGTGGATGGGTAAAACCTATCATCATAGGTCGTCATGCTTA\n",
      "+\n",
      ";E6?<8C>H8<ABEH<>GB=@?F@=D<8@H@98EF@8;75F=5AF<C9==7D9D876B7?8DE<CFE<?=<HGC:\n",
      "@HISEQ1:1:FC706VJ:1:1002:16761:146440 1:N:18:GAGCTA length=75\n",
      "CCCCCGGCTTGTGAGTGGATGGGTAAAACCTATCATCATAGGTCGTCATGCTTATGGGGATCAATACAGAGCAAC\n",
      "+\n",
      "5:D?E:D?=7G?H=BEB?HB;<;H>GB5;A6=A:8A@E6B<=??<9H;F5=6>D:FGG=C;HG?ABEH=5E6?HA\n",
      "@HISEQ1:1:FC706VJ:1:3811:10937:97597 1:N:18:GAGCTA length=75\n",
      "AGAGAAGCCATTATCTGCAAAAATATCCCCCGGCTTGTGAGTGGATGGGTAAAACCTATCATCATAGGTCGTCAT\n",
      "+\n",
      ">8D9C>F:=H7?HHBDG7@HG<<HCAH<<?><7C65B7H;95GD9B@::=@G;<977B<57?@=E;7<5@:6F<<\n",
      "@HISEQ1:1:FC706VJ:1:1924:8743:95371 1:N:18:GAGCTA length=75\n",
      "AAAAATATCCCCCGGCTTGTGAGTGGATGGGTAAAACCTATCATCATAGGTCGTCATGCTTATGGGGATCAATAC\n",
      "+\n",
      "E9:E:;B8>DDG>DE798;96>?EH5@;HC789>58FB6?EH?:@CC=7HG><@F;G8=9H66?8<=;@C:>@@<\n",
      "@HISEQ1:1:FC706VJ:1:8933:4454:190240 1:N:18:GAGCTA length=75\n",
      "CCCCCGGCTTGTGAGTGGATGGGTAAAACCTATCATCATAGGTCGTCATGCTTATGGGGATCAATACAGAGCAAC\n",
      "+\n",
      "D9:E5>7@G=ED?99:>G7H;EH;EF8HEH?6ED@FA77EF@DCCCB@=9DE=5@D>9=9::EE5;9?6B5AH=A\n",
      "@HISEQ1:1:FC706VJ:1:7462:15777:84914 1:N:18:GAGCTA length=75\n",
      "ACCTATCATCATAGGTCGTCATGCTTATGGGGATCAATACAGAGCAACTGATTTTGTTGTTCCTGGGCCTGGAAA\n",
      "+\n",
      ";<=5=5B;<AF5GG;HFD?G8>F:=5B8DG9;5D7C=?=;CA@687<9E55BC<@5D<?B:79A79H@:D@87?;\n",
      "@HISEQ1:1:FC706VJ:1:8482:7803:89728 1:N:18:GAGCTA length=75\n",
      "CTATCATCATAGGTCGTCATGCTTATGGGGATCAATACAGAGCAACTGATTTTGTTGTTCCTGGGCCTGGAAAAG\n",
      "+\n",
      "8?:?::?7<HDDFH?8C<66:HD5;5H@?D5;?F9<CBA@D=CHD=GED?5B9B7DDC=GE=95G7E?9??7<H:\n",
      "@HISEQ1:1:FC706VJ:1:881:4121:115717 1:N:18:GAGCTA length=75\n",
      "TCGTCATGCTTATGGGGATCAATACAGAGCAACTGATTTTGTTGTTCCTGGGCCTGGAAAAGTAGAGATAACCTA\n",
      "+\n",
      "<6??G5F>G;@GE8>CFGH>F:=:86887GE;AG7;GGE=D6D96=95=5E;F=6EH><5=8>H996HF?:HH5>\n",
      "@HISEQ1:1:FC706VJ:1:7270:4149:16394 1:N:18:GAGCTA length=75\n",
      "TGCAAAAATATCCCCCGGCTTGTGAGTGGATGGGTAAAACCTATCATCATAGGTCGTCATGCTTATGGGGATCAA\n",
      "+\n",
      "?H:8=;<5D<:8A;5=EAD7;A7E?H5BD@D?CG;8?BBGH77D9:A6HF@A55H8FDB>G6>AC@@6AB@9<67\n",
      "@HISEQ1:1:FC706VJ:1:5796:8960:191907 1:N:18:GAGCTA length=75\n",
      "ATATCCCCCGGCTTGTGAGTGGATGGGTAAAACCTATCATCATAGGTCGTCATGCTTATGGGGATCAATACAGAG\n",
      "+\n",
      ">8DD7;:B=AG6BG@EBG>9<;?88F>?G76<:A95D7D8C:775BDB:HE9;>?D>;88H<G9?;?=7=B@>C>\n",
      "@HISEQ1:1:FC706VJ:1:8653:14160:89932 1:N:18:GAGCTA length=75\n",
      "CTTGTGAGTGGATGGGTAAAACCTATCATCATAGGTCGTCATGCTTATGGGGATCAATACAGAGCAACTGATTTT\n",
      "+\n",
      "@@HB7:BD:HFF;@CG@B;H5D>?>C:>68G7B?@@D5BAD:7@58AHHCA5?7=6776<89:7=86:CAB?E58\n",
      "@HISEQ1:1:FC706VJ:1:7239:7360:88620 1:N:18:GAGCTA length=75\n",
      "AGTGGATGGGTAAAACCTATCATCATAGGTCGTCATGCTTATGGGGATCAATACAGAGCAACTGATTTTGTTGTT\n",
      "+\n",
      ">A<CC<C@B997E>C?@><C85;C:8?79<6CHC@6;?B<A5@;A<C?9E8B=DG@AC:GF8<A<ABD@=GC9E9\n",
      "@HISEQ1:1:FC706VJ:1:3461:9748:108469 1:N:18:GAGCTA length=75\n",
      "TAAAACCTATCATCATAGGTCGTCATGCTTATGGGGATCAATACAGAGCAACTGATTTTGTTGTTCCTGGGCCTG\n",
      "+\n",
      "8B;B9;7?>;E;B88E5AC><@6>FAB>8>75<@;<5:F?6B?9@@76GCA5D6>E85;<F77HHH;8DDFD7B6\n",
      "@HISEQ1:1:FC706VJ:1:8354:18407:158072 1:N:18:GAGCTA length=75\n",
      "ATATCCCCCGGCTTGTGAGTGGATGGGTAAAACCTATCATCATAGGTCGTCATGCTTATGGGGATCAATACAGAG\n",
      "+\n",
      "FFB:G6>?>F?:B5C;:;>E7>5:D568?D?G?<F5?@HF;:C:?G=58AF6GEDDHG6D@BH8F>>656D@A9=\n",
      "@HISEQ1:1:FC706VJ:1:8351:8124:99711 1:N:18:GAGCTA length=75\n",
      "AAAATATCCCCCGGCTTGTGAGTGGATGGGTAAAACCTATCATCATAGGTCGTCATGCTTATGGGGATCAATACA\n",
      "+\n",
      "CD>>EH7CEHCE8D65F57F=A5HAG7@G:9;C79=:B:E?=?:C;H;@H<66=E>DE6;@?HAF8@E@A7<<??\n",
      "@HISEQ1:1:FC706VJ:1:5199:1311:180758 1:N:18:GAGCTA length=75\n",
      "GAGTGGATGGGTAAAACCTATCATCATAGGTCGTCATGCTTATGGGGATCAATACAGAGCAACTGATTTTGTTGT\n",
      "+\n",
      "=CE5<<::86<G<G68HB?6:9>:F<EDB65A:7HA@>DFH:EF?C:5?HF<5>EB7EG>F:757=F::;7F9AB\n",
      "@HISEQ1:1:FC706VJ:1:8607:16381:179489 1:N:18:GAGCTA length=75\n",
      "GTGGATGGGTAAAACCTATCATCATAGGTCGTCATGCTTATGGGGATCAATACAGAGCAACTGATTTTGTTGTTC\n",
      "+\n",
      "DA=D?7B=78?8=;C:A>A7F;EH6>G:>E?H7DHCEB9D@EFB<G5???H6<8::FE@6;:>F59CB=D=<FD;\n",
      "@HISEQ1:1:FC706VJ:1:9185:5004:13868 1:N:18:GAGCTA length=75\n",
      "ATCATAGGTCGTCATGCTTATGGGGATCAATACAGAGCAACTGATTTTGTTGTTCCTGGGCCTGGAAAAGTAGAG\n",
      "+\n",
      "FHB=@=EB<55@6AD=6H<:F=DG7:FFB9?@?B<=69B?7<C<B<:7E?<AB5:A?979G;F:BH8?B69FCC<\n",
      "@HISEQ1:1:FC706VJ:1:7748:12693:90558 1:N:18:GAGCTA length=75\n",
      "CATTATCTGCAAAAATATCCCCCGGCTTGTGAGTGGATGGGTAAAACCTATCATCATAGGTCGTCATGCTTATGG\n",
      "+\n",
      "DBF9F9@6?<FAHE?5;99A<EE>AA;:9CA>G;ACC6G;H<7HE;7?9EF>CE6:;;6D9::@E>BE596@5B6\n",
      "@HISEQ1:1:FC706VJ:1:3431:11671:180641 1:N:18:GAGCTA length=75\n",
      "GCTTGTGAGTGGATGGGTAAAACCTATCATCATAGGTCGTCATGCTTATGGGGATCAATACAGAGCAACTGATTT\n",
      "+\n",
      "D;>:@F?;7=@8;E87>HF8HC;B5?:@@?C;5@H@?HAGE<=57;HC>:5H@E8C@@B9EH;GH<CD;5DB@E8\n",
      "@HISEQ1:1:FC706VJ:1:1290:6519:2057 1:N:18:GAGCTA length=75\n",
      "GCAAAAATATCCCCCGGCTTGTGAGTGGATGGGTAAAACCTATCATCATAGGTCGTCATGCTTATGGGGATCAAT\n",
      "+\n",
      "=H=DC;BDG=9FG6<6GAB:HG8EF5G8BB7@@F>8C>G;?6?F<7C85G9DFGE999;<A;=55EE6F:H=@8G\n",
      "@HISEQ1:1:FC706VJ:1:4023:8223:18036 1:N:18:GAGCTA length=75\n",
      "AAAATATCCCCCGGCTTGTGAGTGGATGGGTAAAACCTATCATCATAGGTCGTCATGCTTATGGGGATCAATACA\n",
      "+\n",
      "C6BC995:6?D8=@AG7;C=C@?<;CAB>=CBEBC;:H6@7?D<F@EA<GC5:5FBF?=;E8EHA>6?5DH798B\n",
      "@HISEQ1:1:FC706VJ:1:4897:10643:155304 1:N:18:GAGCTA length=75\n",
      "ATAGGTCGTCATGCTTATGGGGATCAATACAGAGCAACTGATTTTGTTGTTCCTGGGCCTGGAAAAGTAGAGATA\n",
      "+\n",
      "=?H<9H>BC>G<>?A7@CABCB5CD7B5?G:C==;6;?B<??CC>?>G><6FH;@;=:96?A?AH=>6DEG<BD8\n",
      "@HISEQ1:1:FC706VJ:1:8400:15789:168457 1:N:18:GAGCTA length=75\n",
      "CCATTATCTGCAAAAATATCCCCCGGCTTGTGAGTGGATGGGTAAAACCTATCATCATAGGTCGTCATGCTTATG\n",
      "+\n",
      "7?8GAG7=<@G9C@HFCF6EH;BG=9GDG98@59=F9CHB=@;5BBD?CGD=>H75@8FD:9:=5BA@975@<A>\n",
      "@HISEQ1:1:FC706VJ:1:9947:10680:45347 1:N:18:GAGCTA length=75\n",
      "ATCATCATAGGTCGTCATGCTTATGGGGATCAATACAGAGCAACTGATTTTGTTGTTCCTGGGCCTGGAAAAGTA\n",
      "+\n",
      "<:9=F>>589FD5CFG;H;F5>@;@=@9?FC@E778<EAHD@:AG@H9F6:@@:<:AF:8>G:;8;CGG6>A579\n",
      "@HISEQ1:1:FC706VJ:1:3754:8059:72773 1:N:18:GAGCTA length=75\n",
      "AGCCATTATCTGCAAAAATATCCCCCGGCTTGTGAGTGGATGGGTAAAACCTATCATCATAGGTCGTCATGCTTA\n",
      "+\n",
      "B;;CGHB=5=HGA?@97DHGH@D@?@C?A9<?<E85<686?6G5AH9?8866:HD?EG@?6E8A>6;F@9:FH7:\n",
      "@HISEQ1:1:FC706VJ:1:1317:13657:112566 1:N:18:GAGCTA length=75\n",
      "AGTGGATGGGTAAAACCTATCATCATAGGTCGTCATGCTTATGGGGATCAATACAGAGCAACTGATTTTGTTGTT\n",
      "+\n",
      "79:G?89C@<B@D6<>@C6DG;=C99H7CA?HFCA8>:56=8>C>F59;F:B<H9<G>H5?6AHHD@7;?@;A@A\n",
      "@HISEQ1:1:FC706VJ:1:5759:14421:94626 1:N:18:GAGCTA length=75\n",
      "CCTATCATCATAGGTCGTCATGCTTATGGGGATCAATACAGAGCAACTGATTTTGTTGTTCCTGGGCCTGGAAAA\n",
      "+\n",
      "67FE6B7BC;>?8GH6;F?;?D<C8=><5;B;7A?FBC?<>:G@B<=H=B>C5@GE=>BH=5BB:BE78@@;?75\n",
      "@HISEQ1:1:FC706VJ:1:8597:17227:91967 1:N:18:GAGCTA length=75\n",
      "CGTCATGCTTATGGGGATCAATACAGAGCAACTGATTTTGTTGTTCCTGGGCCTGGAAAAGTAGAGATAACCTAC\n",
      "+\n",
      "B:;5=?9<E=9H9A>?6A:>:D7:=89>9DDHHE??<H75A68;9B8D@=B<A7BD6CABFDAE;7G8;E58E6=\n",
      "@HISEQ1:1:FC706VJ:1:9477:12605:143292 1:N:18:GAGCTA length=75\n",
      "CCCCGGCTTGTGAGTGGATGGGTAAAACCTATCATCATAGGTCGTCATGCTTATGGGGATCAATACAGAGCAACT\n",
      "+\n",
      "ED<F:F;E@=G8H<5<C<8588C7H=6>9H:;EB=6?76A<9C8>6>5A5BDCA;B=BG9>?689B::7?9FDG?\n",
      "@HISEQ1:1:FC706VJ:1:8985:5223:50560 1:N:18:GAGCTA length=75\n",
      "AAACCTATCATCATAGGTCGTCATGCTTATGGGGATCAATACAGAGCAACTGATTTTGTTGTTCCTGGGCCTGGA\n",
      "+\n",
      "FB75889F:F:<C<>@=;8<BH;87><7CH>@86@CF:96:H>8>C?A::GC8<<>9A?::9><?9?B<9@A;?A\n",
      "@HISEQ1:1:FC706VJ:1:7723:4805:143041 1:N:18:GAGCTA length=75\n",
      "TGGGTAAAACCTATCATCATAGGTCGTCATGCTTATGGGGATCAATACAGAGCAACTGATTTTGTTGTTCCTGGG\n",
      "+\n",
      "8?69>HA@D>B@AED?B8<<D5H?HCH5D;9F7D69A>7AAE7<758>F59A7BD99><66;DHA@;;EA;H>:8\n",
      "@HISEQ1:1:FC706VJ:1:9663:12851:112942 1:N:18:GAGCTA length=75\n",
      "TAAAACCTATCATCATAGGTCGTCATGCTTATGGGGATCAATACAGAGCAACTGATTTTGTTGTTCCTGGGCCTG\n",
      "+\n",
      "5FEA6FGDC@=8>GDG?5=A69?CAHBBB5:@5@66765GAEH<F@=H<8B5EA;B=6797B@8=89CC=668G;\n",
      "@HISEQ1:1:FC706VJ:1:7537:4850:126490 1:N:18:GAGCTA length=75\n",
      "TCCCCCGGCTTGTGAGTGGATGGGTAAAACCTATCATCATAGGTCGTCATGCTTATGGGGATCAATACAGAGCAA\n",
      "+\n",
      ";G>;FHF<=;EDBB5:6HHGCHH=F5GC9;<AE597E>H?G67;>??:>HD@;5A8@;87BB7E7EC5@66A;;E\n",
      "@HISEQ1:1:FC706VJ:1:8368:10070:47081 1:N:18:GAGCTA length=75\n",
      "ATGGGTAAAACCTATCATCATAGGTCGTCATGCTTATGGGGATCAATACAGAGCAACTGATTTTGTTGTTCCTGG\n",
      "+\n",
      "==<A>BD5=;C8=C?578;69;659=C<6<?>A9;B6A57AC8=BC9@>96?;7BGB6D=A7E>66:GDE8A5>G\n",
      "@HISEQ1:1:FC706VJ:1:679:18436:148887 1:N:18:GAGCTA length=75\n",
      "GAGTGGATGGGTAAAACCTATCATCATAGGTCGTCATGCTTATGGGGATCAATACAGAGCAACTGATTTTGTTGT\n",
      "+\n",
      "D8G;D<CD<786B556:B=@5CH57?EA9C?:=F7G7ACG<@:;;<>@A98EECB:C5>79>H<=A>DHGEBB;7\n",
      "@HISEQ1:1:FC706VJ:1:3413:6589:67552 1:N:18:GAGCTA length=75\n",
      "CCGGCTTGTGAGTGGATGGGTAAAACCTATCATCATAGGTCGTCATGCTTATGGGGATCAATACAGAGCAACTGA\n",
      "+\n",
      "8:B;AE8?H66@CED:F:8F@?8HCGA<DDGAFD;5==7;AHEG@>?D=AB5FCC:F?=G86<B<<C?95=>G=>\n",
      "@HISEQ1:1:FC706VJ:1:5862:149:174149 1:N:18:GAGCTA length=75\n",
      "GATGGGTAAAACCTATCATCATAGGTCGTCATGCTTATGGGGATCAATACAGAGCAACTGATTTTGTTGTTCCTG\n",
      "+\n",
      "5>D@66<HAC:HE@GBGC5AB7>BAB9?D65AF;6@?686?96G<=A8=C::E7G8;=B6C5C?>A97;7D5@F7\n",
      "@HISEQ1:1:FC706VJ:1:1527:10339:66759 1:N:18:GAGCTA length=75\n",
      "CTTGTGAGTGGATGGGTAAAACCTATCATCATAGGTCGTCATGCTTATGGGGATCAATACAGAGCAACTGATTTT\n",
      "+\n",
      "6F59@7A>=?85GD<E:G@8D>?FFGAAGDAA:>H8>;>FD?C<9?GH;A:B7AB5G?@6GFHC8:@7<<F86;8\n",
      "@HISEQ1:1:FC706VJ:1:1689:7635:142463 1:N:18:GAGCTA length=75\n",
      "GTGAGTGGATGGGTAAAACCTATCATCATAGGTCGTCATGCTTATGGGGATCAATACAGAGCAACTGATTTTGTT\n",
      "+\n",
      "B=;BE8CG>6=;@?B@5HAG<<?<AGB::A:8=G>?:C>AE8=>9B7679B<8;5CE?:8C6?7@9:F87HF998\n",
      "@HISEQ1:1:FC706VJ:1:7145:10666:62728 1:N:18:GAGCTA length=75\n",
      "TTCAGAGAAGCCATTATCTGCAAAAATATCCCCCGGCTTGTGAGTGGATGGGTAAAACCTATCATCATAGGTCGT\n",
      "+\n",
      "<95H?>A>C@>D5E78D5B?F68A57;?5>GFAC56@BBB7FA6C7:BF5F=?9BB75H?9G<<FDA686C;F@9\n",
      "@HISEQ1:1:FC706VJ:1:9955:18140:170620 1:N:18:GAGCTA length=75\n",
      "AGGTCGTCATGCTTATGGGGATCAATACAGAGCAACTGATTTTGTTGTTCCTGGGCCTGGAAAAGTAGAGATAAC\n",
      "+\n",
      "6>BG;C;<E8DD9DH<E>@77:8F:6=FG8<;<D?@9H;:69F5<<E;F5::EC>GD@9B7><?E;8C56:8755\n",
      "@HISEQ1:1:FC706VJ:1:3583:14223:97422 1:N:18:GAGCTA length=75\n",
      "TAAAACCTATCATCATAGGTCGTCATGCTTATGGGGATCAATACAGAGCAACTGATTTTGTTGTTCCTGGGCCTG\n",
      "+\n",
      ">DE;BC7?:=EA8;69::HD>::@8><>CABE;7D7DE=>DC66;5A>D7HE7G@>:6BFE;F>6?@FDHC7<H7\n",
      "@HISEQ1:1:FC706VJ:1:9299:19732:58087 1:N:18:GAGCTA length=75\n",
      "CCCCCGGCTTGTGAGTGGATGGGTAAAACCTATCATCATAGGTCGTCATGCTTATGGGGATCAATACAGAGCAAC\n",
      "+\n",
      "58@@>E?F>@DBCE6=E8:B>AFEG6G;G;GG6;?9><<C6=:C6BGB=E9ABGBCCBG8FBBH@F@G7=FE@CG\n",
      "@HISEQ1:1:FC706VJ:1:6135:7430:136508 1:N:18:GAGCTA length=75\n",
      "AAAACCTATCATCATAGGTCGTCATGCTTATGGGGATCAATACAGAGCAACTGATTTTGTTGTTCCTGGGCCTGG\n",
      "+\n",
      "@>F=BF?7@F>@BDC@5;8FAF:68H8H99>AEG>EHF:<D>H5=H>A<B96>8H6:>;DE9H9?58=?6:<?@F\n",
      "@HISEQ1:1:FC706VJ:1:442:1172:153423 1:N:18:GAGCTA length=75\n",
      "GTAAAACCTATCATCATAGGTCGTCATGCTTATGGGGATCAATACAGAGCAACTGATTTTGTTGTTCCTGGGCCT\n",
      "+\n",
      "7C;AB9AHGF<GBCF:H@=C6:BD7<;5B6E?9C58=?5<F6G698B<F>D6=A@>=6BG>7FB6C:?6F7C:A6\n",
      "@HISEQ1:1:FC706VJ:1:5670:8414:71328 1:N:18:GAGCTA length=75\n",
      "GCAAAAATATCCCCCGGCTTGTGAGTGGATGGGTAAAACCTATCATCATAGGTCGTCATGCTTATGGGGATCAAT\n",
      "+\n",
      "=@C6A5F=EF9BE5DEA:G5;59A9D5@A5DD>=6EGB?7=<CBDCA?=;B7:6C:8;G:?6A>AFA>H8@>EB6\n"
     ]
    }
   ],
   "source": [
    "print(ref_fastq)"
   ]
  },
  {
   "cell_type": "code",
   "execution_count": 209,
   "metadata": {},
   "outputs": [],
   "source": [
    "with open(\"id1h_r132h_normal.fastq\", \"w\") as f:\n",
    "    f.write(ref_fastq)\n",
    "with open(\"id1h_r132h_tumor.fastq\", \"w\") as f:\n",
    "    f.write(alt_fastq)"
   ]
  },
  {
   "cell_type": "code",
   "execution_count": 210,
   "metadata": {},
   "outputs": [
    {
     "name": "stdout",
     "output_type": "stream",
     "text": [
      "[M::bwa_idx_load_from_disk] read 0 ALT contigs\n",
      "[M::process] read 50 sequences (3750 bp)...\n",
      "[M::mem_process_seqs] Processed 50 reads in 0.012 CPU sec, 0.023 real sec\n",
      "[main] Version: 0.7.15-r1140\n",
      "[main] CMD: bwa mem chr2.fa id1h_r132h_normal.fastq\n",
      "[main] Real time: 1.423 sec; CPU: 0.642 sec\n"
     ]
    }
   ],
   "source": [
    "!bwa mem chr2.fa id1h_r132h_normal.fastq > normal.sam"
   ]
  },
  {
   "cell_type": "code",
   "execution_count": 211,
   "metadata": {},
   "outputs": [
    {
     "name": "stdout",
     "output_type": "stream",
     "text": [
      "[M::bwa_idx_load_from_disk] read 0 ALT contigs\n",
      "[M::process] read 100 sequences (7500 bp)...\n",
      "[M::mem_process_seqs] Processed 100 reads in 0.011 CPU sec, 0.011 real sec\n",
      "[main] Version: 0.7.15-r1140\n",
      "[main] CMD: bwa mem chr2.fa id1h_r132h_tumor.fastq\n",
      "[main] Real time: 0.405 sec; CPU: 0.380 sec\n"
     ]
    }
   ],
   "source": [
    "!bwa mem chr2.fa id1h_r132h_tumor.fastq > tumor.sam"
   ]
  },
  {
   "cell_type": "code",
   "execution_count": 212,
   "metadata": {},
   "outputs": [],
   "source": [
    "!sambamba view normal.sam -f bam -S  > normal.bam"
   ]
  },
  {
   "cell_type": "code",
   "execution_count": 213,
   "metadata": {},
   "outputs": [],
   "source": [
    "!sambamba view tumor.sam -f bam -S  > tumor.bam"
   ]
  },
  {
   "cell_type": "code",
   "execution_count": 214,
   "metadata": {},
   "outputs": [],
   "source": [
    "!sambamba sort normal.bam > normal.sorted.bam"
   ]
  },
  {
   "cell_type": "code",
   "execution_count": 215,
   "metadata": {},
   "outputs": [],
   "source": [
    "!sambamba sort tumor.bam > tumor.sorted.bam"
   ]
  },
  {
   "cell_type": "code",
   "execution_count": 216,
   "metadata": {},
   "outputs": [
    {
     "name": "stdout",
     "output_type": "stream",
     "text": [
      "[mpileup] 2 samples in 2 input files\n",
      "Note: none of --samples-file, --ploidy or --ploidy-file given, assuming all sites are diploid\n",
      "<mpileup> Set max per-file depth to 4000\n",
      "##fileformat=VCFv4.2\n",
      "##FILTER=<ID=PASS,Description=\"All filters passed\">\n",
      "##samtoolsVersion=1.2+htslib-1.2\n",
      "##samtoolsCommand=samtools mpileup -uf chr2.fa tumor.sorted.bam normal.sorted.bam\n",
      "##reference=file://chr2.fa\n",
      "##contig=<ID=chr2,length=243199373>\n",
      "##ALT=<ID=X,Description=\"Represents allele(s) other than observed.\">\n",
      "##INFO=<ID=INDEL,Number=0,Type=Flag,Description=\"Indicates that the variant is an INDEL.\">\n",
      "##INFO=<ID=IDV,Number=1,Type=Integer,Description=\"Maximum number of reads supporting an indel\">\n",
      "##INFO=<ID=IMF,Number=1,Type=Float,Description=\"Maximum fraction of reads supporting an indel\">\n",
      "##INFO=<ID=DP,Number=1,Type=Integer,Description=\"Raw read depth\">\n",
      "##INFO=<ID=VDB,Number=1,Type=Float,Description=\"Variant Distance Bias for filtering splice-site artefacts in RNA-seq data (bigger is better)\",Version=\"3\">\n",
      "##INFO=<ID=RPB,Number=1,Type=Float,Description=\"Mann-Whitney U test of Read Position Bias (bigger is better)\">\n",
      "##INFO=<ID=MQB,Number=1,Type=Float,Description=\"Mann-Whitney U test of Mapping Quality Bias (bigger is better)\">\n",
      "##INFO=<ID=BQB,Number=1,Type=Float,Description=\"Mann-Whitney U test of Base Quality Bias (bigger is better)\">\n",
      "##INFO=<ID=MQSB,Number=1,Type=Float,Description=\"Mann-Whitney U test of Mapping Quality vs Strand Bias (bigger is better)\">\n",
      "##INFO=<ID=SGB,Number=1,Type=Float,Description=\"Segregation based metric.\">\n",
      "##INFO=<ID=MQ0F,Number=1,Type=Float,Description=\"Fraction of MQ0 reads (smaller is better)\">\n",
      "##FORMAT=<ID=PL,Number=G,Type=Integer,Description=\"List of Phred-scaled genotype likelihoods\">\n",
      "##FORMAT=<ID=GT,Number=1,Type=String,Description=\"Genotype\">\n",
      "##INFO=<ID=ICB,Number=1,Type=Float,Description=\"Inbreeding Coefficient Binomial test (bigger is better)\">\n",
      "##INFO=<ID=HOB,Number=1,Type=Float,Description=\"Bias in the number of HOMs number (smaller is better)\">\n",
      "##INFO=<ID=AC,Number=A,Type=Integer,Description=\"Allele count in genotypes for each ALT allele, in the same order as listed\">\n",
      "##INFO=<ID=AN,Number=1,Type=Integer,Description=\"Total number of alleles in called genotypes\">\n",
      "##INFO=<ID=DP4,Number=4,Type=Integer,Description=\"Number of high-quality ref-forward , ref-reverse, alt-forward and alt-reverse bases\">\n",
      "##INFO=<ID=MQ,Number=1,Type=Integer,Description=\"Average mapping quality\">\n",
      "##bcftools_callVersion=1.7+htslib-1.7\n",
      "##bcftools_callCommand=call -m -v; Date=Tue Feb 13 18:22:04 2018\n",
      "#CHROM\tPOS\tID\tREF\tALT\tQUAL\tFILTER\tINFO\tFORMAT\ttumor.sorted.bam\tnormal.sorted.bam\n",
      "chr2\t209113112\t.\tC\tT\t174\t.\tDP=118;VDB=1.90688e-16;SGB=48.3504;RPB=0.736827;MQB=1;BQB=0.669143;MQ0F=0;ICB=0.5;HOB=0.5;AC=2;AN=4;DP4=0,45,0,72;MQ=59\tGT:PL\t1/1:213,217,0\t0/0:0,135,186\n"
     ]
    }
   ],
   "source": [
    "!samtools mpileup -uf chr2.fa tumor.sorted.bam normal.sorted.bam | bcftools call -m  -v"
   ]
  },
  {
   "cell_type": "code",
   "execution_count": null,
   "metadata": {},
   "outputs": [],
   "source": []
  }
 ],
 "metadata": {
  "kernelspec": {
   "display_name": "Python 3",
   "language": "python",
   "name": "python3"
  },
  "language_info": {
   "codemirror_mode": {
    "name": "ipython",
    "version": 3
   },
   "file_extension": ".py",
   "mimetype": "text/x-python",
   "name": "python",
   "nbconvert_exporter": "python",
   "pygments_lexer": "ipython3",
   "version": "3.6.2"
  }
 },
 "nbformat": 4,
 "nbformat_minor": 2
}
